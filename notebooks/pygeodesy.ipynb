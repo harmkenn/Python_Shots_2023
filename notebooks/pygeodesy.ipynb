{
 "cells": [
  {
   "cell_type": "code",
   "execution_count": 15,
   "metadata": {},
   "outputs": [],
   "source": [
    "import pygeodesy as pg \n",
    "\n",
    "# https://mrjean1.github.io/PyGeodesy/\n",
    "# https://www.movable-type.co.uk/scripts/latlong.html\n",
    "\n",
    "lat1d = 40\n",
    "lon1d = -122\n",
    "lat2d = 50 \n",
    "lon2d = 30\n",
    "\n",
    "lbd = pg.bearing(lat1d,lon1d,lat2d,lon2d) #Launch Bearing in degrees\n",
    "ibd = pg.bearing(lat2d,lon2d,lat1d,lon1d)-180 #impact Bearing in degrees\n",
    "if ibd < 0: ibd = ibd + 360\n",
    "\n",
    "# six different distances\n",
    "d1 = pg.cosineAndoyerLambert(lat1d,lon1d,lat2d,lon2d)\n",
    "d2 = pg.cosineForsytheAndoyerLambert(lat1d,lon1d,lat2d,lon2d) # This is the best one\n",
    "d3 = pg.cosineLaw(lat1d,lon1d,lat2d,lon2d)\n",
    "d4 = pg.haversine(lat1d,lon1d,lat2d,lon2d)\n",
    "d5 = pg.thomas(lat1d,lon1d,lat2d,lon2d)\n",
    "d6 = pg.thomas(lat1d,lon1d,lat2d,lon2d)\n",
    "\n",
    "# Compute the midpoint on the gun target line\n"
   ]
  }
 ],
 "metadata": {
  "kernelspec": {
   "display_name": "Python 3",
   "language": "python",
   "name": "python3"
  },
  "language_info": {
   "codemirror_mode": {
    "name": "ipython",
    "version": 3
   },
   "file_extension": ".py",
   "mimetype": "text/x-python",
   "name": "python",
   "nbconvert_exporter": "python",
   "pygments_lexer": "ipython3",
   "version": "3.10.7 (tags/v3.10.7:6cc6b13, Sep  5 2022, 14:08:36) [MSC v.1933 64 bit (AMD64)]"
  },
  "orig_nbformat": 4,
  "vscode": {
   "interpreter": {
    "hash": "f627b94a91bc915482d65575b2ea77ee7c3710ea9aacf075a668e3021bd93680"
   }
  }
 },
 "nbformat": 4,
 "nbformat_minor": 2
}
